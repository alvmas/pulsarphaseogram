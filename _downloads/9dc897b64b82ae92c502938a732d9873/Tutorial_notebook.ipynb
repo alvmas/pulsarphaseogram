{
  "cells": [
    {
      "cell_type": "markdown",
      "metadata": {},
      "source": [
        "\n# Basic pulsar analysis using Fermi-LAT data\n"
      ]
    },
    {
      "cell_type": "code",
      "execution_count": null,
      "metadata": {
        "collapsed": false
      },
      "outputs": [],
      "source": [
        "from ptiming_ana.phaseogram import PulsarAnalysis\nfrom astropy.io import fits\nimport numpy as np\nimport matplotlib.pyplot as plt\n\n# sphinx_gallery_multi_image = \"single\""
      ]
    },
    {
      "cell_type": "markdown",
      "metadata": {},
      "source": [
        "## Create the PulsarAnalysis object and settings\n\n"
      ]
    },
    {
      "cell_type": "code",
      "execution_count": null,
      "metadata": {
        "collapsed": false
      },
      "outputs": [],
      "source": [
        "h = PulsarAnalysis()\nh.set_config('./example_data/config_tutorial.yaml')"
      ]
    },
    {
      "cell_type": "markdown",
      "metadata": {},
      "source": [
        "### Alternatively we can set the parameters directly\n\n"
      ]
    },
    {
      "cell_type": "code",
      "execution_count": null,
      "metadata": {
        "collapsed": false
      },
      "outputs": [],
      "source": [
        "h = PulsarAnalysis()\nh.setBackgroundLimits([0.52,0.87])\nh.setPeaklimits(\n    P1_limits=[0,0.026, 0.983, 1],\n    P2_limits=[0.377, 0.422],\n    P3_limits=None\n)\nh.setBinning(50, xmin=0, xmax=1)\nh.setTimeInterval(tint=3600*24)\nh.setFittingParams(model='dgaussian', binned=True)\nh.setEnergybinning(\n    np.geomspace(0.1/1e3, 1/1e3, 3),\n    do_diff=True,\n    do_integral=False\n)  # in TeV"
      ]
    },
    {
      "cell_type": "markdown",
      "metadata": {},
      "source": [
        "## Extracting phases, times and energies from file and give them to the object\n\nFor Fermi data there is a class to read these lists and use them in the main object.\n\n"
      ]
    },
    {
      "cell_type": "code",
      "execution_count": null,
      "metadata": {
        "collapsed": false
      },
      "outputs": [],
      "source": [
        "h.setFermiInputFile('./example_data/merged2_pulsar.fits')"
      ]
    },
    {
      "cell_type": "markdown",
      "metadata": {},
      "source": [
        "But in general we can read our file (FITS, DL2, DL3\u2026) and extract\nphases, times and energies as lists and read them as follows:\n\n"
      ]
    },
    {
      "cell_type": "code",
      "execution_count": null,
      "metadata": {
        "collapsed": false
      },
      "outputs": [],
      "source": [
        "f=fits.open('./example_data/merged2_pulsar.fits')\nfits_table=f[1].data\n\ntimes=np.sort(fits_table['BARYCENTRIC_TIME'].byteswap().newbyteorder())\nphases=fits_table['PULSE_PHASE'].byteswap().newbyteorder()\nenergies=fits_table['ENERGY'].byteswap().newbyteorder()\n\nh.setListsInput(phases, times, energies/1e6, tel='fermi', energy_units='TeV')\n\nh.get_results = False"
      ]
    },
    {
      "cell_type": "markdown",
      "metadata": {},
      "source": [
        "## Run the code\n\n"
      ]
    },
    {
      "cell_type": "code",
      "execution_count": null,
      "metadata": {
        "collapsed": false
      },
      "outputs": [],
      "source": [
        "h.run()"
      ]
    },
    {
      "cell_type": "markdown",
      "metadata": {},
      "source": [
        "## Show the results\n\n### Overall results\n\n"
      ]
    },
    {
      "cell_type": "code",
      "execution_count": null,
      "metadata": {
        "collapsed": false
      },
      "outputs": [],
      "source": [
        "phaseogram=h.draw_phaseogram(\n    phase_limits=[0, 2],\n    colorhist='xkcd:baby blue'\n)\nplt.tight_layout()"
      ]
    },
    {
      "cell_type": "code",
      "execution_count": null,
      "metadata": {
        "collapsed": false
      },
      "outputs": [],
      "source": [
        "results=h.show_Presults()"
      ]
    },
    {
      "cell_type": "markdown",
      "metadata": {},
      "source": [
        "### Result of the fitting\n\n"
      ]
    },
    {
      "cell_type": "code",
      "execution_count": null,
      "metadata": {
        "collapsed": false
      },
      "outputs": [],
      "source": [
        "h.fit_model"
      ]
    },
    {
      "cell_type": "code",
      "execution_count": null,
      "metadata": {
        "collapsed": false
      },
      "outputs": [],
      "source": [
        "fit_result = h.show_fit_results()"
      ]
    },
    {
      "cell_type": "code",
      "execution_count": null,
      "metadata": {
        "collapsed": false
      },
      "outputs": [],
      "source": [
        "phaseogram = h.draw_phaseogram(\n    phase_limits=[0, 2],\n    colorhist='xkcd:baby blue',\n    fit=True\n)\nplt.tight_layout()"
      ]
    },
    {
      "cell_type": "markdown",
      "metadata": {},
      "source": [
        "### Results vs Time\n\n"
      ]
    },
    {
      "cell_type": "code",
      "execution_count": null,
      "metadata": {
        "collapsed": false
      },
      "outputs": [],
      "source": [
        "TimeEv = h.show_timeEvolution()"
      ]
    },
    {
      "cell_type": "markdown",
      "metadata": {},
      "source": [
        "The periodicity tests are not available since the signal is too strong\n(p_value too low to extrapolate a significance).\n\n"
      ]
    },
    {
      "cell_type": "markdown",
      "metadata": {},
      "source": [
        "### Results vs Energy\n\n"
      ]
    },
    {
      "cell_type": "code",
      "execution_count": null,
      "metadata": {
        "collapsed": false
      },
      "outputs": [],
      "source": [
        "h.show_lcVsEnergy()"
      ]
    },
    {
      "cell_type": "code",
      "execution_count": null,
      "metadata": {
        "collapsed": false
      },
      "outputs": [],
      "source": [
        "energy_lc=h.show_all_lc(ylimits=None)"
      ]
    },
    {
      "cell_type": "code",
      "execution_count": null,
      "metadata": {
        "collapsed": false
      },
      "outputs": [],
      "source": [
        "energy_results=h.show_EnergyPresults()"
      ]
    },
    {
      "cell_type": "code",
      "execution_count": null,
      "metadata": {
        "collapsed": false
      },
      "outputs": [],
      "source": [
        "energy_plots=h.show_EnergyAna()"
      ]
    },
    {
      "cell_type": "markdown",
      "metadata": {},
      "source": [
        "### Fit vs Energy\n\n"
      ]
    },
    {
      "cell_type": "code",
      "execution_count": null,
      "metadata": {
        "collapsed": false
      },
      "outputs": [],
      "source": [
        "mean_energy_plot=h.show_meanVsEnergy()\n\nh.show_EnergyFitresults()"
      ]
    }
  ],
  "metadata": {
    "kernelspec": {
      "display_name": "Python 3",
      "language": "python",
      "name": "python3"
    },
    "language_info": {
      "codemirror_mode": {
        "name": "ipython",
        "version": 3
      },
      "file_extension": ".py",
      "mimetype": "text/x-python",
      "name": "python",
      "nbconvert_exporter": "python",
      "pygments_lexer": "ipython3",
      "version": "3.11.11"
    }
  },
  "nbformat": 4,
  "nbformat_minor": 0
}